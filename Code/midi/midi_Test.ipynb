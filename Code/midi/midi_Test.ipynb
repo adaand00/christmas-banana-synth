{
 "cells": [
  {
   "cell_type": "code",
   "execution_count": 32,
   "metadata": {},
   "outputs": [
    {
     "name": "stdout",
     "output_type": "stream",
     "text": [
      "Instrument(program=0, is_drum=False, name=\"\")\n",
      "Instrument(program=22, is_drum=False, name=\"\")\n",
      "{{5,281},{0,206},{5,307},{0,197},{5,312},{0,171},{1,244},{0,125},{8,67},{0,60},{5,416},{0,165},{1,287},{0,169},{8,85},{0,51},{5,747},{0,422},{12,377},{0,216},{12,371},{0,208},{12,386},{0,223},{13,257},{0,165},{8,95},{0,69},{4,416},{0,156},{1,248},{0,176},{8,85},{0,79},{5,514},{0,655},{17,457},{0,131},{5,297},{0,161},{5,116},{0,34},{17,371},{0,164},{16,318},{0,153},{15,98},{0,49},{14,140},{0,6},{13,101},{0,45},{14,132},{0,468},{6,113},{0,183},{11,389},{0,198},{10,322},{0,118},{9,83},{0,57},{8,113},{0,26},{7,89},{0,60},{8,128},{0,475},{1,98},{0,192},{4,355},{0,230},{1,337},{0,116},{8,73},{0,61},{5,398},{0,177},{1,330},{0,140},{8,79},{0,49},{5,741},}\n"
     ]
    }
   ],
   "source": [
    "# Function that parses midi file to frequency and duration of each note\n",
    "import numpy as np\n",
    "import pretty_midi\n",
    "\n",
    "def midi_to_freq(midi_file, transpose, speed):\n",
    "    midi_data = pretty_midi.PrettyMIDI(midi_file)\n",
    "    notes = []\n",
    "    for instrument in midi_data.instruments:\n",
    "        print(instrument)\n",
    "        for note in instrument.notes:\n",
    "            notes.append([note.pitch, note.start, note.end])\n",
    "    notes = np.array(notes)\n",
    "    notes = notes[notes[:,1].argsort()]\n",
    "    minNote = min(notes[:,0])\n",
    "    freq = []\n",
    "    duration = []\n",
    "\n",
    "    for i in range(len(notes)):\n",
    "        freq.append(notes[i][0] - minNote + 1 + transpose)\n",
    "        duration.append((notes[i][2] - notes[i][1])*1000)\n",
    "        if(i != len(notes)-1):\n",
    "            freq.append(0)\n",
    "            duration.append((notes[i+1][1] - notes[i][2])*1000)\n",
    "    \n",
    "    # check so that all notes are between 1 and 24\n",
    "    if(max(freq) > 24 | min(freq) < 1):\n",
    "        raise ValueError('Error: note out of range')\n",
    "\n",
    "    return freq, duration\n",
    "\n",
    "freq, dur = midi_to_freq('imperial_march.mid', 0, 0.8)\n",
    "\n",
    "# formatting for arduino\n",
    "print('{', end = '')\n",
    "for i in range(len(freq)):\n",
    "    # print as integers\n",
    "    print('{'+str(int(freq[i])) + ',' + str(int(dur[i]))+'}', end = ',')\n",
    "print('}')\n"
   ]
  }
 ],
 "metadata": {
  "kernelspec": {
   "display_name": "Python 3",
   "language": "python",
   "name": "python3"
  },
  "language_info": {
   "codemirror_mode": {
    "name": "ipython",
    "version": 3
   },
   "file_extension": ".py",
   "mimetype": "text/x-python",
   "name": "python",
   "nbconvert_exporter": "python",
   "pygments_lexer": "ipython3",
   "version": "3.10.9"
  },
  "orig_nbformat": 4,
  "vscode": {
   "interpreter": {
    "hash": "ac7c9e653733cadf67832513a25672be27a4e663c718d44796906f8ac03b9925"
   }
  }
 },
 "nbformat": 4,
 "nbformat_minor": 2
}
