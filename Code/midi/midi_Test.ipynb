{
 "cells": [
  {
   "cell_type": "code",
   "execution_count": 8,
   "metadata": {},
   "outputs": [
    {
     "name": "stdout",
     "output_type": "stream",
     "text": [
      "Instrument(program=7, is_drum=False, name=\"BRASS 1\")\n",
      "{{1,599},{0,115},{4,65},{0,181},{6,393},{0,95},{4,398},{0,85},{3,544},{0,171},{8,504},{0,-10},{6,95},{0,141},{8,327},{0,161},{1,599},{0,115},{4,65},{0,181},{6,393},{0,95},{4,398},{0,85},{3,544},{0,171},{8,504},{0,-10},{6,95},{0,141},{8,327},{0,156},{13,378},{0,584},{8,236},{0,15},{11,216},{0,25},{13,236},{0,5},{15,166},{0,317},{11,131},{0,352},{6,478},{0,-5},{8,226},{0,15},{11,211},{0,30},{11,156},{0,574},{20,221},{0,25},{18,680},{0,35},{16,231},{0,20},{15,700},{0,15},{22,236},{0,15},{20,720},{0,725},{25,75},{0,166},{25,176},{0,302},{8,236},{0,15},{11,216},{0,25},{13,236},{0,5},{15,166},{0,317},{11,131},{0,352},{6,478},{0,-5},{8,226},{0,15},{11,211},{0,30},{11,156},{0,574},{20,221},{0,25},{18,680},{0,35},{16,231},{0,20},{15,700},{0,15},{22,236},{0,15},{20,720},}\n"
     ]
    }
   ],
   "source": [
    "# Function that parses midi file to frequency and duration of each note\n",
    "import numpy as np\n",
    "import pretty_midi\n",
    "\n",
    "def midi_to_freq(midi_file, transpose, speed):\n",
    "    midi_data = pretty_midi.PrettyMIDI(midi_file)\n",
    "    notes = []\n",
    "    for instrument in midi_data.instruments:\n",
    "        print(instrument)\n",
    "        for note in instrument.notes:\n",
    "            notes.append([note.pitch, note.start, note.end])\n",
    "    notes = np.array(notes)\n",
    "    notes = notes[notes[:,1].argsort()]\n",
    "    minNote = min(notes[:,0])\n",
    "    freq = []\n",
    "    duration = []\n",
    "\n",
    "    for i in range(len(notes)):\n",
    "        freq.append(notes[i][0] - minNote + 1 + transpose)\n",
    "        duration.append((notes[i][2] - notes[i][1])*1000/speed)\n",
    "        if(i != len(notes)-1):\n",
    "            freq.append(0)\n",
    "            duration.append((notes[i+1][1] - notes[i][2])*1000/speed)\n",
    "    \n",
    "    # check so that all notes are between 1 and 24\n",
    "    if(max(freq) > 24 | min(freq) < 1):\n",
    "        raise ValueError('Error: note out of range')\n",
    "\n",
    "    return freq, duration\n",
    "\n",
    "transpose = 0   # transpose (shift) notes up from C4 by amount\n",
    "speed = 1     # speed up or slow down song\n",
    "freq, dur = midi_to_freq('lets_groove.mid', transpose, speed)\n",
    "\n",
    "# formatting for arduino\n",
    "print('{', end = '')\n",
    "for i in range(len(freq)):\n",
    "    # print as integers\n",
    "    print('{'+str(int(freq[i])) + ',' + str(int(dur[i]))+'}', end = ',')\n",
    "print('}')\n"
   ]
  }
 ],
 "metadata": {
  "kernelspec": {
   "display_name": "Python 3",
   "language": "python",
   "name": "python3"
  },
  "language_info": {
   "codemirror_mode": {
    "name": "ipython",
    "version": 3
   },
   "file_extension": ".py",
   "mimetype": "text/x-python",
   "name": "python",
   "nbconvert_exporter": "python",
   "pygments_lexer": "ipython3",
   "version": "3.10.9"
  },
  "orig_nbformat": 4,
  "vscode": {
   "interpreter": {
    "hash": "ac7c9e653733cadf67832513a25672be27a4e663c718d44796906f8ac03b9925"
   }
  }
 },
 "nbformat": 4,
 "nbformat_minor": 2
}
