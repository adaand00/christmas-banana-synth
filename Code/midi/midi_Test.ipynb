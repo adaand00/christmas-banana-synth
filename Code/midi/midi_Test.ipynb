{
 "cells": [
  {
   "cell_type": "code",
   "execution_count": 3,
   "metadata": {},
   "outputs": [
    {
     "name": "stdout",
     "output_type": "stream",
     "text": [
      "Instrument(program=65, is_drum=False, name=\"\")\n",
      "Instrument(program=65, is_drum=False, name=\"\")\n",
      "{{6,824},{0,75},{8,825},{0,74},{1,550},{0,49},{8,825},{0,74},{10,825},{0,74},{13,137},{0,12},{11,137},{0,12},{10,137},{0,12},{6,975},{0,74},{8,825},{0,75},{1,2024},{0,375},{13,137},{0,12},{11,137},{0,12},{10,137},{0,12},{6,974},{0,75},{8,825},{0,75},{1,549},{0,49},{8,825},{0,75},{10,825},{0,75},{13,137},{0,12},{11,137},{0,12},{10,137},{0,12},{6,975},{0,75},{8,824},{0,75},{1,2250},{0,150},{1,137},{0,12},{3,137},{0,12},{6,137},{0,12},{3,137},{0,12},{10,412},{0,187},{10,274},{0,25},{8,849},{0,49},{1,137},{0,12},{3,137},{0,12},{6,137},{0,12},{3,137},{0,12},{8,412},{0,187},{8,275},{0,24},{6,412},{0,37},{5,137},{0,12},{3,274},{0,25},{1,137},{0,12},{3,137},{0,12},{6,137},{0,12},{3,137},{0,12},{6,549},{0,49},{8,275},{0,24},{5,412},{0,37},{3,137},{0,12},{1,375},{0,224},{1,262},{0,37},{8,549},{0,50},{6,1149},{0,49},{1,137},{0,12},{3,137},{0,12},{6,137},{0,12},{3,137},{0,12},{10,412},{0,187},{10,275},{0,24},{8,850},{0,49},{1,137},{0,12},{3,137},{0,12},{6,137},{0,12},{3,137},{0,12},{13,550},{0,49},{5,274},{0,25},{6,412},{0,37},{5,137},{0,12},{3,275},{0,25},{1,137},{0,12},{3,137},{0,12},{6,137},{0,12},{3,137},{0,12},{6,549},{0,49},{8,275},{0,25},{5,412},{0,37},{3,137},{0,12},{1,412},{0,187},{1,275},{0,25},{8,549},{0,49},{6,1299},}\n"
     ]
    }
   ],
   "source": [
    "# Function that parses midi file to frequency and duration of each note\n",
    "import numpy as np\n",
    "import pretty_midi\n",
    "\n",
    "def midi_to_freq(midi_file, transpose, speed):\n",
    "    midi_data = pretty_midi.PrettyMIDI(midi_file)\n",
    "    notes = []\n",
    "    for instrument in midi_data.instruments:\n",
    "        print(instrument)\n",
    "        for note in instrument.notes:\n",
    "            notes.append([note.pitch, note.start, note.end])\n",
    "    notes = np.array(notes)\n",
    "    notes = notes[notes[:,1].argsort()]\n",
    "    minNote = min(notes[:,0])\n",
    "    freq = []\n",
    "    duration = []\n",
    "\n",
    "    for i in range(len(notes)):\n",
    "        freq.append(notes[i][0] - minNote + 1 + transpose)\n",
    "        duration.append((notes[i][2] - notes[i][1])*1000/speed)\n",
    "        if(i != len(notes)-1):\n",
    "            freq.append(0)\n",
    "            duration.append((notes[i+1][1] - notes[i][2])*1000/speed)\n",
    "    \n",
    "    # check so that all notes are between 1 and 24\n",
    "    if(max(freq) > 24 | min(freq) < 1):\n",
    "        raise ValueError('Error: note out of range')\n",
    "\n",
    "    if(min(duration) < 0):\n",
    "        print('Warning: negative duration')\n",
    "\n",
    "    return freq, duration\n",
    "\n",
    "transpose = 0   # transpose (shift) notes up from C4 by amount\n",
    "speed = 1     # speed up or slow down song\n",
    "freq, dur = midi_to_freq('Never-Gonna-Give-You-Up.mid', transpose, speed)\n",
    "\n",
    "# formatting for arduino\n",
    "print('{', end = '')\n",
    "for i in range(len(freq)):\n",
    "    # print as integers\n",
    "    print('{'+str(int(freq[i])) + ',' + str(int(dur[i]))+'}', end = ',')\n",
    "print('}')\n"
   ]
  }
 ],
 "metadata": {
  "kernelspec": {
   "display_name": "Python 3",
   "language": "python",
   "name": "python3"
  },
  "language_info": {
   "codemirror_mode": {
    "name": "ipython",
    "version": 3
   },
   "file_extension": ".py",
   "mimetype": "text/x-python",
   "name": "python",
   "nbconvert_exporter": "python",
   "pygments_lexer": "ipython3",
   "version": "3.10.9"
  },
  "orig_nbformat": 4,
  "vscode": {
   "interpreter": {
    "hash": "ac7c9e653733cadf67832513a25672be27a4e663c718d44796906f8ac03b9925"
   }
  }
 },
 "nbformat": 4,
 "nbformat_minor": 2
}
