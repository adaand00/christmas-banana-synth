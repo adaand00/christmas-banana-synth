{
 "cells": [
  {
   "cell_type": "code",
   "execution_count": 11,
   "metadata": {},
   "outputs": [
    {
     "name": "stdout",
     "output_type": "stream",
     "text": [
      "Instrument(program=56, is_drum=False, name=\"\")\n"
     ]
    }
   ],
   "source": [
    "# Function that parses midi file to frequency and duration of each note\n",
    "\n",
    "import numpy as np\n",
    "import pretty_midi\n",
    "\n",
    "def midi_to_freq(midi_file):\n",
    "    midi_data = pretty_midi.PrettyMIDI(midi_file)\n",
    "    notes = []\n",
    "    for instrument in midi_data.instruments:\n",
    "        print(instrument)\n",
    "        for note in instrument.notes:\n",
    "            notes.append([note.pitch, note.start, note.end])\n",
    "    notes = np.array(notes)\n",
    "    notes = notes[notes[:,1].argsort()]\n",
    "    freq = []\n",
    "    duration = []\n",
    "    for i in range(len(notes)):\n",
    "        freq.append(440 * 2**((notes[i][0] - 69)/12))\n",
    "        duration.append(notes[i][2] - notes[i][1])\n",
    "    return freq, duration\n",
    "\n",
    "freq, dur = midi_to_freq('imperial_march.mid')\n",
    "\n",
    "\n",
    "\n",
    "\n",
    "\n"
   ]
  }
 ],
 "metadata": {
  "kernelspec": {
   "display_name": "Python 3.9.12 ('base')",
   "language": "python",
   "name": "python3"
  },
  "language_info": {
   "codemirror_mode": {
    "name": "ipython",
    "version": 3
   },
   "file_extension": ".py",
   "mimetype": "text/x-python",
   "name": "python",
   "nbconvert_exporter": "python",
   "pygments_lexer": "ipython3",
   "version": "3.9.12"
  },
  "orig_nbformat": 4,
  "vscode": {
   "interpreter": {
    "hash": "48ff03eadbf694866a60358fcab1cb75ddc27498075499db515ca235399af7b0"
   }
  }
 },
 "nbformat": 4,
 "nbformat_minor": 2
}
